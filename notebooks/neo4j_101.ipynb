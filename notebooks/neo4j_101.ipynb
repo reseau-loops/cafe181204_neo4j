{
 "cells": [
  {
   "cell_type": "markdown",
   "metadata": {},
   "source": [
    "## Jeu de données\n",
    "Un labo avec des projets, des services et des personnes"
   ]
  },
  {
   "cell_type": "code",
   "execution_count": null,
   "metadata": {},
   "outputs": [],
   "source": [
    "import json \n",
    "with open('data/lab2000.json','r') as f:\n",
    "    lab = json.load(f)\n",
    "\n",
    "# Liste des projets\n",
    "lab['projects']"
   ]
  },
  {
   "cell_type": "code",
   "execution_count": null,
   "metadata": {},
   "outputs": [],
   "source": [
    "# Liste des services\n",
    "lab['services']"
   ]
  },
  {
   "cell_type": "code",
   "execution_count": null,
   "metadata": {},
   "outputs": [],
   "source": [
    "# Liste des personnes (les 3 premières)\n",
    "print(json.dumps(lab['persons'][1:3], indent=4, sort_keys=True))"
   ]
  },
  {
   "cell_type": "markdown",
   "metadata": {},
   "source": [
    "## Configuration\n"
   ]
  },
  {
   "cell_type": "code",
   "execution_count": null,
   "metadata": {},
   "outputs": [],
   "source": [
    "demoConfig = {\n",
    "    'url': 'localhost',\n",
    "    'port': '7687',\n",
    "    'user': 'neo4j',\n",
    "    'password': 'neo4j',\n",
    "}\n",
    "\n",
    "driverUrl = f\"bolt://{demoConfig['user']}:{demoConfig['password']}@{demoConfig['url']}:{demoConfig['port']}\""
   ]
  },
  {
   "cell_type": "code",
   "execution_count": null,
   "metadata": {},
   "outputs": [],
   "source": [
    "from scripts.draw_graph import draw_query\n",
    "from py2neo import Graph\n",
    "\n",
    "drawGraph = Graph()"
   ]
  },
  {
   "cell_type": "markdown",
   "metadata": {},
   "source": [
    "# Neo4j - Python\n",
    "\n",
    "## Jouons avec le driver officiel neo4j python\n",
    "\n",
    "Le documentation est ici (version 1.7)\n",
    "\n",
    "https://neo4j.com/docs/api/python-driver/1.7-preview/\n",
    "\n",
    "## Concepts de base\n",
    "\n",
    "- Un driver gère toutes les interactions avec la base\n",
    "- Ces interactions se déroulent dans le cadre d'une session fournie par le driver\n",
    "- les modifications se déroule au sein d'une transaction fournie par la session\n",
    "\n",
    "```\n",
    "driver        session        transaction\n",
    " |               |               |               \n",
    " | session()     |               |\n",
    " |-------------->|               |\n",
    " |               |   begin()     |               \n",
    " |               |-------------->|               \n",
    " |               |               |               \n",
    " |               |               |----+            \n",
    " |               |               |   write something\n",
    " |               |               |<---+           \n",
    " |               |               |               \n",
    " |               |               |----+           \n",
    " |               |               |  commit()     \n",
    " |               |               |<---+           \n",
    " |               |               |               \n",
    " |               |               |----+\n",
    " |               |               | close()              \n",
    " |               |               |<---+               \n",
    " |               |               |               \n",
    "```\n",
    "\n",
    "\n",
    "\n",
    "## Interactions avec la base\n",
    "* Instancier un driver\n",
    "* Obtenir une session"
   ]
  },
  {
   "cell_type": "code",
   "execution_count": null,
   "metadata": {},
   "outputs": [],
   "source": [
    "from neo4j.v1 import GraphDatabase\n",
    "\n",
    "driver = GraphDatabase.driver('bolt://localhost:7687')"
   ]
  },
  {
   "cell_type": "markdown",
   "metadata": {},
   "source": [
    "## Modification\n",
    "* Ouverture d'une transaction pour modifier\n",
    " * modification\n",
    " * commit ou rollback"
   ]
  },
  {
   "cell_type": "markdown",
   "metadata": {},
   "source": [
    "### Création des noeuds\n",
    "\n",
    "D'une façon conventionelle, puis d'une façon plus pythonique."
   ]
  },
  {
   "cell_type": "code",
   "execution_count": null,
   "metadata": {},
   "outputs": [],
   "source": [
    "def create_nodes_classic_way(label, data, driver):\n",
    "    \n",
    "    # -- Obtention session --\n",
    "    session = driver.session()\n",
    "    \n",
    "    # -- Obention transaction --\n",
    "    tx = session.begin_transaction()\n",
    "    \n",
    "    for name in data:\n",
    "        tx.run('CREATE (:'+label+' {name : {name}})', name=name)\n",
    "    \n",
    "    #-- commit --\n",
    "    tx.commit()\n",
    "    # -- fermeture de la transaction. Elle ne peut être réutilisée.\n",
    "    tx.close()"
   ]
  },
  {
   "cell_type": "code",
   "execution_count": null,
   "metadata": {},
   "outputs": [],
   "source": [
    "create_nodes_classic_way('Project', lab['projects'], driver)"
   ]
  },
  {
   "cell_type": "code",
   "execution_count": null,
   "metadata": {},
   "outputs": [],
   "source": [
    "def create_nodes_pythonic_way(label, data, driver):\n",
    "    \n",
    "    # - mode auto-commit\n",
    "    \n",
    "    with driver.session() as local_session:\n",
    "        for name in data:\n",
    "            print(name)\n",
    "            # -- pas de transaction, directement au niveau de la session\n",
    "            local_session.run('CREATE (:'+label+' {name : {name}})', name=name)"
   ]
  },
  {
   "cell_type": "code",
   "execution_count": null,
   "metadata": {},
   "outputs": [],
   "source": [
    "create_nodes_pythonic_way('Service', lab['services'],driver)"
   ]
  },
  {
   "cell_type": "markdown",
   "metadata": {},
   "source": [
    "### Lecture seule\n",
    "\n",
    "Un simple `Session.run(query)` suffit."
   ]
  },
  {
   "cell_type": "code",
   "execution_count": null,
   "metadata": {},
   "outputs": [],
   "source": [
    "# - session globale pour le notebook\n",
    "global_session = driver.session()"
   ]
  },
  {
   "cell_type": "markdown",
   "metadata": {},
   "source": [
    "Les résultats sont des `Records` à parcourir."
   ]
  },
  {
   "cell_type": "code",
   "execution_count": null,
   "metadata": {},
   "outputs": [],
   "source": [
    "[r for r in global_session.run('MATCH (n) RETURN labels(n)[0], n.name')]"
   ]
  },
  {
   "cell_type": "code",
   "execution_count": null,
   "metadata": {},
   "outputs": [],
   "source": [
    "global_session.run('MATCH (n:Project) RETURN count(n) as nb').single().value()"
   ]
  },
  {
   "cell_type": "markdown",
   "metadata": {},
   "source": [
    "## Résultats en tant qu'entités Graph\n",
    "Pour obtenir les résultats sous forme de \n",
    "* Node\n",
    "* Relationship\n",
    "* Path\n",
    "\n",
    "il faut utiliser la vue `Graph` des `StatementResult`.\n",
    "\n",
    "Au sein de graphes, il est possible d'avoir les noeuds `.nodes` et les relations `.relationships`.\n"
   ]
  },
  {
   "cell_type": "code",
   "execution_count": null,
   "metadata": {},
   "outputs": [],
   "source": [
    "[r for r in global_session.run('MATCH (n:Project) RETURN n').graph().nodes]"
   ]
  },
  {
   "cell_type": "code",
   "execution_count": null,
   "metadata": {},
   "outputs": [],
   "source": [
    "draw_query(drawGraph,'driver_project','MATCH (n:Project) RETURN n')"
   ]
  },
  {
   "cell_type": "markdown",
   "metadata": {},
   "source": [
    "### Création de relations"
   ]
  },
  {
   "cell_type": "markdown",
   "metadata": {},
   "source": [
    "**(:Person)-\\[:MEMBER_OF\\]->(:Service)**"
   ]
  },
  {
   "cell_type": "code",
   "execution_count": null,
   "metadata": {},
   "outputs": [],
   "source": [
    "query ='''\n",
    "MATCH (s:Service {name: {service}}) \n",
    "CREATE (p:Person {name: {name}})\n",
    "CREATE (p)-[:MEMBER_OF]->(s)'''\n",
    "\n",
    "with driver.session() as session:\n",
    "    for p in lab['persons']:\n",
    "        session.run(query, name=p['name'],service=p['service'])"
   ]
  },
  {
   "cell_type": "code",
   "execution_count": null,
   "metadata": {},
   "outputs": [],
   "source": [
    "draw_query(drawGraph,'driver_member_of_service','MATCH p=(q:Person)-[r]->(s:Service) RETURN p')"
   ]
  },
  {
   "cell_type": "markdown",
   "metadata": {},
   "source": [
    "**(:Person)-\\[:WORK_IN \\{function=$function}\\]->(:Project)**"
   ]
  },
  {
   "cell_type": "code",
   "execution_count": null,
   "metadata": {},
   "outputs": [],
   "source": [
    "subquery = '''\n",
    "MATCH (pers:Person {name: {name}}),(project:Project {name: {project}})\n",
    "MERGE (pers)-[:WORK_IN{function: {function}} ]->(project)'''\n",
    "        \n",
    "with driver.session() as session:\n",
    "    for person in lab['persons']:        \n",
    "        for project in person['projects']:\n",
    "            session.run(subquery,\n",
    "                       name=person['name'],\n",
    "                       project=project['name'],\n",
    "                       function=project['function'])"
   ]
  },
  {
   "cell_type": "code",
   "execution_count": null,
   "metadata": {},
   "outputs": [],
   "source": [
    "draw_query(drawGraph,'driver_work_in_project',\n",
    "           'MATCH p=(q:Person)-[r]->(s:Project) RETURN p')"
   ]
  },
  {
   "cell_type": "code",
   "execution_count": null,
   "metadata": {},
   "outputs": [],
   "source": [
    "with driver.session() as session:\n",
    "    records = session.run('MATCH (n)-[r:WORK_IN]->(p) return n,r,p')\n",
    "    \n",
    "# - les 5 premiers\n",
    "for relation in list(records.graph().relationships)[0:5]:\n",
    "    print(relation.items())\n",
    "    print(relation.type)\n",
    "    print(relation.start_node)\n",
    "    print(relation.end_node)\n",
    "    print('---')"
   ]
  },
  {
   "cell_type": "markdown",
   "metadata": {},
   "source": [
    "### La liste des personnes qui ne sont pas associées à un projet"
   ]
  },
  {
   "cell_type": "code",
   "execution_count": null,
   "metadata": {},
   "outputs": [],
   "source": [
    "with driver.session() as session:\n",
    "    query= '''MATCH (p:Person)-[:MEMBER_OF]->(s) \n",
    "    WHERE NOT (p)-[:WORK_IN]->(:Project) \n",
    "    RETURN p.name AS name, s.name AS service'''\n",
    "    records = session.run(query)\n",
    "    \n",
    "print(f'Statement {records.summary().statement} after {records.summary().result_available_after} ms' )\n",
    "\n",
    "[ f\"Person : {r['name']}, Service: {r['service']}\" for r in records]\n"
   ]
  },
  {
   "cell_type": "markdown",
   "metadata": {},
   "source": [
    "# Avec py2no\n",
    "\n",
    "py2neo est un wrapper autour du driver neo4j.\n",
    "\n",
    "Il simplifie la vie et s'intégre très bien avec plusieurs librairies communes Python"
   ]
  },
  {
   "cell_type": "code",
   "execution_count": null,
   "metadata": {},
   "outputs": [],
   "source": [
    "from py2neo import Graph, Node, Relationship\n",
    "\n",
    "graph = Graph()"
   ]
  },
  {
   "cell_type": "markdown",
   "metadata": {},
   "source": [
    "### Avec Pandas"
   ]
  },
  {
   "cell_type": "code",
   "execution_count": null,
   "metadata": {
    "scrolled": true
   },
   "outputs": [],
   "source": [
    "query= '''MATCH (p:Person)-[:MEMBER_OF]->(s) \n",
    "WHERE NOT (p)-[:WORK_IN]->(:Project) \n",
    "RETURN p.name AS name, s.name AS service'''\n",
    "\n",
    "graph.run(query).to_data_frame()"
   ]
  },
  {
   "cell_type": "markdown",
   "metadata": {},
   "source": [
    "### Avec Numpy"
   ]
  },
  {
   "cell_type": "code",
   "execution_count": null,
   "metadata": {},
   "outputs": [],
   "source": [
    "graph.run(query).to_ndarray()"
   ]
  },
  {
   "cell_type": "markdown",
   "metadata": {},
   "source": [
    "## Manipulations Graphiques (pour les gourmets)\n",
    "\n",
    "py2neo permet de manipuler le graphe directement en terme de Node, Relationship.\n",
    "\n",
    "Le graphe est modifié localement avant de mettre à jour la base à travers des _push_ et des _pull_.\n",
    "\n",
    "_La documentation manque singulièrement de clarté._"
   ]
  },
  {
   "cell_type": "code",
   "execution_count": null,
   "metadata": {},
   "outputs": [],
   "source": [
    "# - Création de la ville d'orsay\n",
    "city = Node('City', name='Orsay')\n",
    "\n",
    "# - merge en matchant sur le label 'City' et la clef 'name'\n",
    "graph.merge(city, 'City','name')"
   ]
  },
  {
   "cell_type": "code",
   "execution_count": null,
   "metadata": {},
   "outputs": [],
   "source": [
    "# - recherche du noeud (roxane)\n",
    "roxanne = graph.nodes.match(\"Person\", name='Roxanne Brochu').first()\n",
    "\n",
    "print(roxanne, type(roxanne))\n",
    "\n",
    "# - mise en relation avec la ville\n",
    "liveIn = Relationship(roxanne, \"lIVE_IN\", city)\n",
    "\n",
    "# - CREATION de la relation\n",
    "graph.create(liveIn)\n"
   ]
  },
  {
   "cell_type": "code",
   "execution_count": null,
   "metadata": {},
   "outputs": [],
   "source": [
    "# - Recherche du service informatique\n",
    "\n",
    "serviceInfo = graph.nodes.match('Service', name='Informatique').first()\n",
    "\n",
    "# - recherche de la relation entre carine et le service informatique\n",
    "\n",
    "roxanneToInformatique = graph.match((roxanne,), r_type='MEMBER_OF').first()\n",
    "\n",
    "# - Mise à jour locale\n",
    "\n",
    "roxanneToInformatique['function'] = 'chef'\n",
    "\n",
    "# - mise à jour remote \n",
    "graph.push(roxanneToInformatique)"
   ]
  },
  {
   "cell_type": "code",
   "execution_count": null,
   "metadata": {},
   "outputs": [],
   "source": [
    "graph.match((roxanne,), r_type='MEMBER_OF').first()"
   ]
  },
  {
   "cell_type": "markdown",
   "metadata": {},
   "source": [
    "## Mettre à jour le graphe du projet  'Tigre'"
   ]
  },
  {
   "cell_type": "code",
   "execution_count": null,
   "metadata": {},
   "outputs": [],
   "source": [
    "import random\n",
    "\n",
    "# - récupération duprojet 'tigre'\n",
    "tigerProject = graph.nodes.match('Project', name='Tigre').first()\n",
    "\n",
    "# - récupération des relations (p)->[r:WORK_IN]->(:Project {name: 'Tigre'})\n",
    "relations =list(graph.relationships.match((None,tigerProject),'WORK_IN')) \n",
    "\n",
    "# - Mise à jour d'une charge de travail aléatoire comme en vrai ? :)\n",
    "for rel in relations:\n",
    "    rel['workload'] = random.randint(1,8)*10\n",
    "\n",
    "\n",
    "for rel in graph.relationships.match((None,tigerProject),'WORK_IN'):\n",
    "    print(rel.start_node, rel['workload'])"
   ]
  },
  {
   "cell_type": "markdown",
   "metadata": {},
   "source": [
    "### Regroupement des objet sous forme de Subgraph (conteneur)"
   ]
  },
  {
   "cell_type": "code",
   "execution_count": null,
   "metadata": {},
   "outputs": [],
   "source": [
    "from py2neo import Subgraph\n",
    "\n",
    "subgraph=Subgraph(relationships=relations)\n",
    "graph.push(subgraph)"
   ]
  },
  {
   "cell_type": "code",
   "execution_count": null,
   "metadata": {},
   "outputs": [],
   "source": [
    "for rel in graph.relationships.match((None,tigerProject),'WORK_IN'):\n",
    "    print(rel.start_node, rel['workload'])"
   ]
  },
  {
   "cell_type": "markdown",
   "metadata": {},
   "source": [
    "## Procédure de nettoyage\n"
   ]
  },
  {
   "cell_type": "code",
   "execution_count": null,
   "metadata": {},
   "outputs": [],
   "source": [
    "import ipywidgets as widgets\n",
    "from ipywidgets import interact\n",
    "\n",
    "checkbox = widgets.ToggleButton(\n",
    "    value=False,\n",
    "    description='DELETE ALL',\n",
    "    disabled=False\n",
    ")\n",
    "\n",
    "def delete_all(b):\n",
    "    if b:\n",
    "        with driver.session() as session:\n",
    "            session.run('MATCH (n) DETACH DELETE n')\n",
    "    \n",
    "            \n",
    "interact(delete_all, b=checkbox)"
   ]
  },
  {
   "cell_type": "code",
   "execution_count": null,
   "metadata": {},
   "outputs": [],
   "source": []
  }
 ],
 "metadata": {
  "kernelspec": {
   "display_name": "Python 3",
   "language": "python",
   "name": "python3"
  }
 },
 "nbformat": 4,
 "nbformat_minor": 2
}
