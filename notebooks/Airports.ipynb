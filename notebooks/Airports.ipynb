{
 "cells": [
  {
   "cell_type": "markdown",
   "metadata": {},
   "source": [
    "# Aéroports français\n",
    "\n",
    "## Modèle de données\n",
    "\n",
    "Les données sont extraites de la base openflights\n",
    "\n",
    "* Aéroports français\n",
    "* Vols commerciaux entre ces aéroports\n"
   ]
  },
  {
   "cell_type": "markdown",
   "metadata": {},
   "source": [
    "## Création des aéroports\n",
    "\n",
    "* Création index\n",
    "```cypher\n",
    "CREATE INDEX ON  :Airport(iata)\n",
    "```\n",
    "\n",
    "* Import\n",
    "```cypher\n",
    "LOAD CSV WITH HEADERS FROM 'https://raw.githubusercontent.com/marcdexet-cnrs/graph_jupyter/master/french_airports.csv' as line\n",
    "CREATE (:Airport {iata: line['iata'],\n",
    "  city: line['city'],\n",
    "  latitude: toFloat(line['latitude']),\n",
    "  longitude: toFloat(line['longitude']),\n",
    "  position: point({latitude: toFloat(line['latitude']), longitude: toFloat(line['longitude'])}),\n",
    "  name: line['name']} )\n",
    "```"
   ]
  },
  {
   "cell_type": "markdown",
   "metadata": {},
   "source": [
    "## Création des vols\n",
    "\n",
    "Avec un merge _idempotent_\n",
    "\n",
    "```Cypher\n",
    "LOAD CSV WITH HEADERS FROM 'https://raw.githubusercontent.com/marcdexet-cnrs/graph_jupyter/master/french_flights.csv' as line\n",
    "MATCH (src:Airport {iata: line['source_airport']}), (dest:Airport {iata: line['destination_airport']})\n",
    "WITH *, distance(src.position,dest.position) as distance                                                                              \n",
    "MERGE (src)-[r:TO {airlineId: line['airline_id'], distance: distance}]->(dest)\n",
    "```"
   ]
  },
  {
   "cell_type": "markdown",
   "metadata": {},
   "source": [
    "## Exemples de requêtes\n",
    "\n",
    "### Aéroports parisiens\n",
    "\n",
    "```cypher\n",
    "MATCH (p:Airport {city: 'Paris'}) RETURN p.name\n",
    "```\n",
    "\n",
    "\n",
    "### Aéroport avec un O dans le code iata\n",
    "\n",
    "```cypher\n",
    "MATCH (a:Airport) \n",
    "WHERE a.iata STARTS WITH 'O' \n",
    "RETURN a.name, a.iata\n",
    "```\n",
    "\n",
    "### Aéroport avec le plus de départs \n",
    "\n",
    "```cypher\n",
    "MATCH (n:Airport)-[r:TO]->(m:Airport) \n",
    "WITH n.name as airport, count(r) AS nb \n",
    "RETURN airport, nb \n",
    "ORDER BY nb DESC\n",
    "```"
   ]
  },
  {
   "cell_type": "markdown",
   "metadata": {},
   "source": [
    "### Liste des trajets allant de ORLY à TOULOUSE de 1 à 3 étapes\n",
    "\n",
    "```cypher\n",
    "MATCH p=(src:Airport {iata: 'ORY'})-[:TO*1..3]-(dest:Airport {iata: 'TLS'})\n",
    "WHERE all(n in nodes(p)[1..-1] WHERE not n in  [src,dest])\n",
    "RETURN DISTINCT length(p) as len, extract(n in nodes(p) | n.name)\n",
    "ORDER BY len```"
   ]
  },
  {
   "cell_type": "markdown",
   "metadata": {},
   "source": [
    "### Liste des aéroports non desservis depuis ORLY\n",
    "\n",
    "```cypher\n",
    "MATCH (src:Airport {iata: 'ORY'}), (dest:Airport) \n",
    "WHERE NOT (src)-[:TO]->(dest) AND (dest)-[:TO]-() \n",
    "RETURN dest\n",
    "```"
   ]
  },
  {
   "cell_type": "markdown",
   "metadata": {},
   "source": [
    "Il faudrait calculer les distance entre aéroports."
   ]
  },
  {
   "cell_type": "markdown",
   "metadata": {},
   "source": [
    "### Le plus court chemin entre Tours et Avignon\n",
    "\n",
    "```cypher\n",
    "MATCH p=shortestpath((n:Airport {iata: \"TUF\"})-[r:TO*1..5]->(m:Airport {iata: \"AVN\"}))\n",
    "RETURN length(p) as len, \n",
    "reduce(s='', rel in rels(p) |s+' ('+startnode(rel).name+')-['+id(rel)+']->('+endnode(rel).name+')') AS path\n",
    " ```"
   ]
  },
  {
   "cell_type": "markdown",
   "metadata": {},
   "source": [
    "### Prise en compte de la distance réelle\n",
    "\n",
    "```cypher\n",
    "// Récupérer tous les codes IATA comme une liste \n",
    "MATCH  (s:Airport) WITH collect(s.iata) as iatalist\n",
    "\n",
    "// Dérouler la liste\n",
    "UNWIND(iatalist) AS iata\n",
    "// Rechercher les aéroports liés...\n",
    "MATCH (s:Airport {iata: iata})-[:TO]->(t:Airport)\n",
    "// ... mais sans relation 'distancié'                                       \n",
    "WHERE NOT (s)-[:DISTANCIATED]-(t)\n",
    "\n",
    "// avec s, t et un calcul de distance                               \n",
    "WITH s, t, distance(s.position,t.position) as distance\n",
    "// crée la relation 'distancié'\n",
    "MERGE (s)-[:DISTANCIATED {distance: distance}]->(t)\n",
    "```"
   ]
  },
  {
   "cell_type": "markdown",
   "metadata": {},
   "source": [
    "### Le plus court chemin en fonction de la distance\n",
    "\n",
    "```cypher\n",
    "MATCH (n:Airport {iata: \"TUF\"}),(m:Airport {iata: \"AVN\"})\n",
    "                                                                    \n",
    "CALL apoc.algo.dijkstra(n,m,'DISTANCIATED','distance') YIELD path as p, weight\n",
    "RETURN length(p) as len, \n",
    "reduce(s='', rel in rels(p) |s+' ('+startnode(rel).name+')-['+id(rel)+']->('+endnode(rel).name+')') AS path, \n",
    "weight\n",
    "```"
   ]
  },
  {
   "cell_type": "markdown",
   "metadata": {},
   "source": [
    "## Mesures\n",
    "\n",
    "### Betweeness\n",
    "\n",
    "En théorie des graphes et théorie des réseaux, la centralité intermédiaire, centralité d'intermédiarité ou intermédiarité est une mesure de centralité d'un sommet d'un graphe. Elle est égale au nombre de fois que ce sommet est sur le chemin le plus court entre deux autres nœuds quelconques du graphe. Un nœud possède une grande intermédiarité s'il a une grande influence sur les transferts de données dans le réseau, sous l'hypothèse que ces transferts se font uniquement par les chemins les plus courts. \n",
    "\n",
    "\n",
    "```cypher\n",
    "MATCH (ap:Airport)\n",
    "WITH collect(ap) AS airports\n",
    "CALL apoc.algo.betweenness(['TO'],airports, 'BOTH')\n",
    "YIELD node, score\n",
    "SET node.betweenness = score\n",
    "RETURN node.name AS Airport, score ORDER BY score DESC LIMIT 200\n",
    "```"
   ]
  },
  {
   "cell_type": "markdown",
   "metadata": {},
   "source": [
    "# Annexe\n",
    "\n",
    "## Extraction des données\n"
   ]
  },
  {
   "cell_type": "code",
   "execution_count": 1,
   "metadata": {},
   "outputs": [],
   "source": [
    "import pandas as pd\n",
    "from IPython.display import display, HTML\n",
    "\n",
    "flights_index = ['airline',\n",
    "'airline_id',\n",
    "'source_airport',\n",
    "'source_airport_id',\n",
    "'destination_airport',\n",
    "'destination_airport_id',\n",
    "'codeshare',\n",
    "'stops',\n",
    "'equipment']\n",
    "\n",
    "airport_index = ['airport_id',\n",
    "'name',\n",
    "'city',\n",
    "'country',\n",
    "'iata',\n",
    "'icao',\n",
    "'latitude',\n",
    "'longitude',\n",
    "'altitude',\n",
    "'timezone',\n",
    "'dst',\n",
    "'tz_database_time',\n",
    "'zone_type',\n",
    "'source']\n",
    "\n",
    "airports = pd.read_csv('https://raw.githubusercontent.com/jpatokal/openflights/master/data/airports.dat',\n",
    "                      names=airport_index)\n",
    "\n",
    "flights = pd.read_csv('https://raw.githubusercontent.com/jpatokal/openflights/master/data/routes.dat', names=flights_index)\n",
    "\n",
    "\n"
   ]
  },
  {
   "cell_type": "code",
   "execution_count": 2,
   "metadata": {},
   "outputs": [
    {
     "data": {
      "text/html": [
       "<table border=\"1\" class=\"dataframe\">\n",
       "  <thead>\n",
       "    <tr style=\"text-align: right;\">\n",
       "      <th></th>\n",
       "      <th>airport_id</th>\n",
       "      <th>name</th>\n",
       "      <th>city</th>\n",
       "      <th>country</th>\n",
       "      <th>iata</th>\n",
       "      <th>icao</th>\n",
       "      <th>latitude</th>\n",
       "      <th>longitude</th>\n",
       "      <th>altitude</th>\n",
       "      <th>timezone</th>\n",
       "      <th>dst</th>\n",
       "      <th>tz_database_time</th>\n",
       "      <th>zone_type</th>\n",
       "      <th>source</th>\n",
       "    </tr>\n",
       "  </thead>\n",
       "  <tbody>\n",
       "    <tr>\n",
       "      <th>0</th>\n",
       "      <td>1</td>\n",
       "      <td>Goroka Airport</td>\n",
       "      <td>Goroka</td>\n",
       "      <td>Papua New Guinea</td>\n",
       "      <td>GKA</td>\n",
       "      <td>AYGA</td>\n",
       "      <td>-6.081690</td>\n",
       "      <td>145.391998</td>\n",
       "      <td>5282</td>\n",
       "      <td>10</td>\n",
       "      <td>U</td>\n",
       "      <td>Pacific/Port_Moresby</td>\n",
       "      <td>airport</td>\n",
       "      <td>OurAirports</td>\n",
       "    </tr>\n",
       "    <tr>\n",
       "      <th>1</th>\n",
       "      <td>2</td>\n",
       "      <td>Madang Airport</td>\n",
       "      <td>Madang</td>\n",
       "      <td>Papua New Guinea</td>\n",
       "      <td>MAG</td>\n",
       "      <td>AYMD</td>\n",
       "      <td>-5.207080</td>\n",
       "      <td>145.789001</td>\n",
       "      <td>20</td>\n",
       "      <td>10</td>\n",
       "      <td>U</td>\n",
       "      <td>Pacific/Port_Moresby</td>\n",
       "      <td>airport</td>\n",
       "      <td>OurAirports</td>\n",
       "    </tr>\n",
       "    <tr>\n",
       "      <th>2</th>\n",
       "      <td>3</td>\n",
       "      <td>Mount Hagen Kagamuga Airport</td>\n",
       "      <td>Mount Hagen</td>\n",
       "      <td>Papua New Guinea</td>\n",
       "      <td>HGU</td>\n",
       "      <td>AYMH</td>\n",
       "      <td>-5.826790</td>\n",
       "      <td>144.296005</td>\n",
       "      <td>5388</td>\n",
       "      <td>10</td>\n",
       "      <td>U</td>\n",
       "      <td>Pacific/Port_Moresby</td>\n",
       "      <td>airport</td>\n",
       "      <td>OurAirports</td>\n",
       "    </tr>\n",
       "    <tr>\n",
       "      <th>3</th>\n",
       "      <td>4</td>\n",
       "      <td>Nadzab Airport</td>\n",
       "      <td>Nadzab</td>\n",
       "      <td>Papua New Guinea</td>\n",
       "      <td>LAE</td>\n",
       "      <td>AYNZ</td>\n",
       "      <td>-6.569803</td>\n",
       "      <td>146.725977</td>\n",
       "      <td>239</td>\n",
       "      <td>10</td>\n",
       "      <td>U</td>\n",
       "      <td>Pacific/Port_Moresby</td>\n",
       "      <td>airport</td>\n",
       "      <td>OurAirports</td>\n",
       "    </tr>\n",
       "    <tr>\n",
       "      <th>4</th>\n",
       "      <td>5</td>\n",
       "      <td>Port Moresby Jacksons International Airport</td>\n",
       "      <td>Port Moresby</td>\n",
       "      <td>Papua New Guinea</td>\n",
       "      <td>POM</td>\n",
       "      <td>AYPY</td>\n",
       "      <td>-9.443380</td>\n",
       "      <td>147.220001</td>\n",
       "      <td>146</td>\n",
       "      <td>10</td>\n",
       "      <td>U</td>\n",
       "      <td>Pacific/Port_Moresby</td>\n",
       "      <td>airport</td>\n",
       "      <td>OurAirports</td>\n",
       "    </tr>\n",
       "  </tbody>\n",
       "</table>"
      ],
      "text/plain": [
       "<IPython.core.display.HTML object>"
      ]
     },
     "metadata": {},
     "output_type": "display_data"
    }
   ],
   "source": [
    "display(HTML(airports.head().to_html()))"
   ]
  },
  {
   "cell_type": "code",
   "execution_count": 3,
   "metadata": {},
   "outputs": [
    {
     "data": {
      "text/html": [
       "<table border=\"1\" class=\"dataframe\">\n",
       "  <thead>\n",
       "    <tr style=\"text-align: right;\">\n",
       "      <th></th>\n",
       "      <th>airline</th>\n",
       "      <th>airline_id</th>\n",
       "      <th>source_airport</th>\n",
       "      <th>source_airport_id</th>\n",
       "      <th>destination_airport</th>\n",
       "      <th>destination_airport_id</th>\n",
       "      <th>codeshare</th>\n",
       "      <th>stops</th>\n",
       "      <th>equipment</th>\n",
       "    </tr>\n",
       "  </thead>\n",
       "  <tbody>\n",
       "    <tr>\n",
       "      <th>0</th>\n",
       "      <td>2B</td>\n",
       "      <td>410</td>\n",
       "      <td>AER</td>\n",
       "      <td>2965</td>\n",
       "      <td>KZN</td>\n",
       "      <td>2990</td>\n",
       "      <td>NaN</td>\n",
       "      <td>0</td>\n",
       "      <td>CR2</td>\n",
       "    </tr>\n",
       "    <tr>\n",
       "      <th>1</th>\n",
       "      <td>2B</td>\n",
       "      <td>410</td>\n",
       "      <td>ASF</td>\n",
       "      <td>2966</td>\n",
       "      <td>KZN</td>\n",
       "      <td>2990</td>\n",
       "      <td>NaN</td>\n",
       "      <td>0</td>\n",
       "      <td>CR2</td>\n",
       "    </tr>\n",
       "    <tr>\n",
       "      <th>2</th>\n",
       "      <td>2B</td>\n",
       "      <td>410</td>\n",
       "      <td>ASF</td>\n",
       "      <td>2966</td>\n",
       "      <td>MRV</td>\n",
       "      <td>2962</td>\n",
       "      <td>NaN</td>\n",
       "      <td>0</td>\n",
       "      <td>CR2</td>\n",
       "    </tr>\n",
       "    <tr>\n",
       "      <th>3</th>\n",
       "      <td>2B</td>\n",
       "      <td>410</td>\n",
       "      <td>CEK</td>\n",
       "      <td>2968</td>\n",
       "      <td>KZN</td>\n",
       "      <td>2990</td>\n",
       "      <td>NaN</td>\n",
       "      <td>0</td>\n",
       "      <td>CR2</td>\n",
       "    </tr>\n",
       "    <tr>\n",
       "      <th>4</th>\n",
       "      <td>2B</td>\n",
       "      <td>410</td>\n",
       "      <td>CEK</td>\n",
       "      <td>2968</td>\n",
       "      <td>OVB</td>\n",
       "      <td>4078</td>\n",
       "      <td>NaN</td>\n",
       "      <td>0</td>\n",
       "      <td>CR2</td>\n",
       "    </tr>\n",
       "  </tbody>\n",
       "</table>"
      ],
      "text/plain": [
       "<IPython.core.display.HTML object>"
      ]
     },
     "metadata": {},
     "output_type": "display_data"
    }
   ],
   "source": [
    "display(HTML(flights.head().to_html()))"
   ]
  },
  {
   "cell_type": "markdown",
   "metadata": {},
   "source": [
    "### Simplification des données"
   ]
  },
  {
   "cell_type": "code",
   "execution_count": 4,
   "metadata": {},
   "outputs": [],
   "source": [
    "simple_flights = flights[['source_airport','destination_airport','airline_id','equipment']]\n",
    "simple_airports = airports[['iata','name','city','country','latitude', 'longitude', 'altitude']]"
   ]
  },
  {
   "cell_type": "markdown",
   "metadata": {},
   "source": [
    "### Restriction aux aéroports français"
   ]
  },
  {
   "cell_type": "code",
   "execution_count": 5,
   "metadata": {},
   "outputs": [],
   "source": [
    "french_airports = simple_airports[simple_airports['country'] == 'France']"
   ]
  },
  {
   "cell_type": "markdown",
   "metadata": {},
   "source": [
    "### Curation des noms d'aéroports "
   ]
  },
  {
   "cell_type": "code",
   "execution_count": 6,
   "metadata": {},
   "outputs": [],
   "source": [
    "french_curated_airports = french_airports.copy()\n",
    "french_curated_airports.name = french_curated_airports.name.apply(lambda s: s.replace('\\\\','').replace('\"',''))"
   ]
  },
  {
   "cell_type": "markdown",
   "metadata": {},
   "source": [
    "### Ecriture dans un fichier CSV"
   ]
  },
  {
   "cell_type": "code",
   "execution_count": 7,
   "metadata": {},
   "outputs": [],
   "source": [
    "valid_iata_names_mask = french_curated_airports['iata'].str.len() > 2\n",
    "\n",
    "french_curated_airports[valid_iata_names_mask]\\\n",
    "[['iata','name','city','country','latitude','longitude','altitude']] \\\n",
    ".to_csv('french_airports.csv')"
   ]
  },
  {
   "cell_type": "markdown",
   "metadata": {},
   "source": [
    "### jointure des vols et des aéroports"
   ]
  },
  {
   "cell_type": "code",
   "execution_count": 8,
   "metadata": {},
   "outputs": [],
   "source": [
    "def join_flight_to_airport(flights, airports) :\n",
    "    src = pd.merge(flights, airports, left_on=['source_airport'], right_on=['iata'])\n",
    "    dest = pd.merge(src, airports, left_on=['destination_airport'], right_on=['iata'],suffixes=('_src','_dest'))\n",
    "    return dest"
   ]
  },
  {
   "cell_type": "code",
   "execution_count": 9,
   "metadata": {},
   "outputs": [],
   "source": [
    "france_flights = join_flight_to_airport(simple_flights, french_airports)"
   ]
  },
  {
   "cell_type": "code",
   "execution_count": 10,
   "metadata": {},
   "outputs": [],
   "source": [
    "france_flights[['airline_id','source_airport', 'destination_airport']].to_csv('french_flights.csv')"
   ]
  },
  {
   "cell_type": "markdown",
   "metadata": {},
   "source": [
    "## APOC\n",
    "\n",
    "Voir la liste sur https://neo4j-contrib.github.io/neo4j-apoc-procedures/"
   ]
  }
 ],
 "metadata": {
  "kernelspec": {
   "display_name": "Python 3",
   "language": "python",
   "name": "python3"
  },
  "language_info": {
   "codemirror_mode": {
    "name": "ipython",
    "version": 3
   },
   "file_extension": ".py",
   "mimetype": "text/x-python",
   "name": "python",
   "nbconvert_exporter": "python",
   "pygments_lexer": "ipython3",
   "version": "3.6.6"
  }
 },
 "nbformat": 4,
 "nbformat_minor": 2
}
