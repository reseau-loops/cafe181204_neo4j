{
 "cells": [
  {
   "cell_type": "code",
   "execution_count": null,
   "metadata": {},
   "outputs": [],
   "source": [
    "#import sys\n",
    "#!{sys.executable} -m pip install py2neo ;"
   ]
  },
  {
   "cell_type": "code",
   "execution_count": 1,
   "metadata": {},
   "outputs": [],
   "source": [
    "from py2neo import Graph, Relationship\n",
    "from scripts import vis\n",
    "\n",
    "\n",
    "graph = Graph()\n",
    "\n",
    "def draw_result(name, subg):\n",
    "    nodes = []\n",
    "    edges = []\n",
    "    for n in subg.nodes:\n",
    "        nodes.append( {'id': n['code'], 'label': n['code'], 'group': list(n.labels)[0] })\n",
    "\n",
    "    for n in subg.relationships:\n",
    "        edges.append({'from': n.start_node['code'], 'to': n.end_node['code']})\n",
    "        \n",
    "    return vis.vis_network(name,nodes, edges,True)\n",
    "\n",
    "def draw_query(name, query):\n",
    "    subg = graph.run(query).to_subgraph()\n",
    "    print(subg)\n",
    "    return draw_result(name, subg)\n"
   ]
  },
  {
   "cell_type": "code",
   "execution_count": 2,
   "metadata": {},
   "outputs": [
    {
     "name": "stdout",
     "output_type": "stream",
     "text": [
      "<py2neo.data.Subgraph object at 0x7fba46c92f60>\n"
     ]
    },
    {
     "data": {
      "text/html": [
       "\n",
       "        <iframe\n",
       "            width=\"100%\"\n",
       "            height=\"800\"\n",
       "            src=\"figures/graph-example.html\"\n",
       "            frameborder=\"0\"\n",
       "            allowfullscreen\n",
       "        ></iframe>\n",
       "        "
      ],
      "text/plain": [
       "<IPython.lib.display.IFrame at 0x7fba46ca86d8>"
      ]
     },
     "execution_count": 2,
     "metadata": {},
     "output_type": "execute_result"
    }
   ],
   "source": [
    "draw_query('example', 'MATCH path=(n)-[r]-(p) RETURN n, r, p LIMIT 50')"
   ]
  },
  {
   "cell_type": "code",
   "execution_count": null,
   "metadata": {},
   "outputs": [],
   "source": [
    "draw_query('example', 'MATCH (n)-[r:HOW]->(p) RETURN n, r, p LIMIT 200')"
   ]
  }
 ],
 "metadata": {
  "kernelspec": {
   "display_name": "Python 3",
   "language": "python",
   "name": "python3"
  },
  "language_info": {
   "codemirror_mode": {
    "name": "ipython",
    "version": 3
   },
   "file_extension": ".py",
   "mimetype": "text/x-python",
   "name": "python",
   "nbconvert_exporter": "python",
   "pygments_lexer": "ipython3",
   "version": "3.6.6"
  }
 },
 "nbformat": 4,
 "nbformat_minor": 2
}
